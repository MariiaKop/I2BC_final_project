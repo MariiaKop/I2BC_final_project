{
 "cells": [
  {
   "cell_type": "markdown",
   "metadata": {},
   "source": [
    "# Initial A and B matrixes generation"
   ]
  },
  {
   "cell_type": "code",
   "execution_count": 297,
   "metadata": {},
   "outputs": [
    {
     "name": "stdout",
     "output_type": "stream",
     "text": [
      "Matrices A, B have been generated\n"
     ]
    },
    {
     "data": {
      "text/plain": [
       "'A = '"
      ]
     },
     "metadata": {},
     "output_type": "display_data"
    },
    {
     "data": {
      "text/plain": [
       "matrix([[ 0,  9,  7],\n",
       "        [ 4,  0,  7],\n",
       "        [ 8, 11,  8],\n",
       "        [ 8,  1,  8],\n",
       "        [ 7,  2,  0],\n",
       "        [ 1,  7,  1],\n",
       "        [ 2,  0,  9],\n",
       "        [ 2,  8,  6],\n",
       "        [ 4,  4,  9]], dtype=int32)"
      ]
     },
     "metadata": {},
     "output_type": "display_data"
    },
    {
     "data": {
      "text/plain": [
       "'B = '"
      ]
     },
     "metadata": {},
     "output_type": "display_data"
    },
    {
     "data": {
      "text/plain": [
       "matrix([[11,  9, 11, 10,  1,  2,  1,  5,  8],\n",
       "        [ 6,  1,  8,  9,  9,  4,  4,  7,  8],\n",
       "        [ 9,  8,  5,  3,  5,  8, 11,  8,  2]], dtype=int32)"
      ]
     },
     "metadata": {},
     "output_type": "display_data"
    }
   ],
   "source": [
    "import numpy as np\n",
    "\n",
    "K, L, T = 3, 3, 2 # A, B submatrixies\n",
    "p = 29 # field (finite or np.inf)\n",
    "\n",
    "bound = 12 # values boundaries\n",
    "\n",
    "# sizes: size_A * width_AB and width_AB * size_B => result size_A * size_B\n",
    "width_AB = 3\n",
    "size_A, size_B = 9, 9\n",
    "\n",
    "assert size_A % K == 0, 'Please, use multiples of each other numbers'\n",
    "assert size_B % L == 0, 'Please, use multiples of each other numbers'\n",
    "\n",
    "A = np.matrix(np.random.randint(0, bound, (width_AB, size_A))).T % p\n",
    "B = np.matrix(np.random.randint(0, bound, (width_AB, size_B))) % p\n",
    "\n",
    "print('Matrices A, B have been generated')\n",
    "display('A = ', A)\n",
    "display('B = ', B)"
   ]
  },
  {
   "cell_type": "markdown",
   "metadata": {},
   "source": [
    "# Regular A and B multiplication"
   ]
  },
  {
   "cell_type": "code",
   "execution_count": 298,
   "metadata": {},
   "outputs": [
    {
     "data": {
      "text/plain": [
       "matrix([[ 1,  7, 20, 15,  0,  5, 26,  3, 28],\n",
       "        [20,  5, 21,  3, 10,  6, 23, 18, 17],\n",
       "        [23,  2, 13,  0,  2,  8, 24,  7, 23],\n",
       "        [21, 21, 20, 26, 28, 26, 13, 24,  1],\n",
       "        [ 2,  7,  6,  1, 25, 22, 15, 20, 14],\n",
       "        [ 4, 24, 14, 18, 11,  9, 11,  4,  8],\n",
       "        [16,  3,  9, 18, 18, 18, 14, 24,  5],\n",
       "        [ 8, 16,  0, 23, 17, 26, 13, 27,  5],\n",
       "        [ 4, 25,  5, 16, 27,  9,  3,  4, 24]], dtype=int32)"
      ]
     },
     "execution_count": 298,
     "metadata": {},
     "output_type": "execute_result"
    }
   ],
   "source": [
    "REG_MAT_MUL = A @ B % p\n",
    "REG_MAT_MUL"
   ]
  },
  {
   "cell_type": "markdown",
   "metadata": {},
   "source": [
    "# Genearating A_k, B_l, k = 1...K, l = 1...L submatrixes"
   ]
  },
  {
   "cell_type": "code",
   "execution_count": 299,
   "metadata": {},
   "outputs": [
    {
     "name": "stdout",
     "output_type": "stream",
     "text": [
      "Submatrices A_i have been generated\n"
     ]
    },
    {
     "data": {
      "text/plain": [
       "'A = '"
      ]
     },
     "metadata": {},
     "output_type": "display_data"
    },
    {
     "data": {
      "text/plain": [
       "array([[[ 0.,  9.,  7.],\n",
       "        [ 4.,  0.,  7.],\n",
       "        [ 8., 11.,  8.]],\n",
       "\n",
       "       [[ 8.,  1.,  8.],\n",
       "        [ 7.,  2.,  0.],\n",
       "        [ 1.,  7.,  1.]],\n",
       "\n",
       "       [[ 2.,  0.,  9.],\n",
       "        [ 2.,  8.,  6.],\n",
       "        [ 4.,  4.,  9.]]])"
      ]
     },
     "metadata": {},
     "output_type": "display_data"
    },
    {
     "name": "stdout",
     "output_type": "stream",
     "text": [
      "Submatrices B_i have been generated\n"
     ]
    },
    {
     "data": {
      "text/plain": [
       "'B = '"
      ]
     },
     "metadata": {},
     "output_type": "display_data"
    },
    {
     "data": {
      "text/plain": [
       "array([[[11.,  9., 11.],\n",
       "        [ 6.,  1.,  8.],\n",
       "        [ 9.,  8.,  5.]],\n",
       "\n",
       "       [[10.,  1.,  2.],\n",
       "        [ 9.,  9.,  4.],\n",
       "        [ 3.,  5.,  8.]],\n",
       "\n",
       "       [[ 1.,  5.,  8.],\n",
       "        [ 4.,  7.,  8.],\n",
       "        [11.,  8.,  2.]]])"
      ]
     },
     "metadata": {},
     "output_type": "display_data"
    }
   ],
   "source": [
    "# A submatrices\n",
    "print('Submatrices A_i have been generated')\n",
    "A_ = np.zeros([K, int(size_A / K), width_AB])\n",
    "for i in range(K):\n",
    "    A_[i] = np.split(A, K, axis = 0)[i] % p\n",
    "display('A = ', A_)\n",
    "\n",
    "# B submatrices\n",
    "print('Submatrices B_i have been generated')\n",
    "B_ = np.zeros([L, width_AB, int(size_B / L)])\n",
    "for i in range(L):\n",
    "    B_[i] = np.split(B, L, axis = 1)[i] % p\n",
    "display('B = ', B_)"
   ]
  },
  {
   "cell_type": "markdown",
   "metadata": {},
   "source": [
    "# Multiplication using A_k, B_l parts"
   ]
  },
  {
   "cell_type": "code",
   "execution_count": 300,
   "metadata": {},
   "outputs": [
    {
     "data": {
      "text/plain": [
       "array([[ 1.,  7., 20., 15.,  0.,  5., 26.,  3., 28.],\n",
       "       [20.,  5., 21.,  3., 10.,  6., 23., 18., 17.],\n",
       "       [23.,  2., 13.,  0.,  2.,  8., 24.,  7., 23.],\n",
       "       [21., 21., 20., 26., 28., 26., 13., 24.,  1.],\n",
       "       [ 2.,  7.,  6.,  1., 25., 22., 15., 20., 14.],\n",
       "       [ 4., 24., 14., 18., 11.,  9., 11.,  4.,  8.],\n",
       "       [16.,  3.,  9., 18., 18., 18., 14., 24.,  5.],\n",
       "       [ 8., 16.,  0., 23., 17., 26., 13., 27.,  5.],\n",
       "       [ 4., 25.,  5., 16., 27.,  9.,  3.,  4., 24.]])"
      ]
     },
     "execution_count": 300,
     "metadata": {},
     "output_type": "execute_result"
    }
   ],
   "source": [
    "result = np.zeros([size_A, size_B]) # we know size to be calculated\n",
    "for i in range(0, A_.shape[0], 1): # for each partial A matrix\n",
    "    for j in range(0, B_.shape[0], 1): # for each partial B matrix\n",
    "        delta_A, delta_B = int(size_A / K), int(size_B / L)\n",
    "        # calculate each result A_[i] @ B_[j] separately\n",
    "        result[delta_A*i:delta_A*(i+1), delta_B*j:delta_B*(j+1)] = A_[i] @ B_[j] % p\n",
    "PARTED_MAT_MUL = result\n",
    "PARTED_MAT_MUL % p"
   ]
  },
  {
   "cell_type": "markdown",
   "metadata": {},
   "source": [
    "# Check if regular mat.mul equals to partial mat.mul"
   ]
  },
  {
   "cell_type": "code",
   "execution_count": 301,
   "metadata": {},
   "outputs": [
    {
     "data": {
      "text/plain": [
       "matrix([[ True,  True,  True,  True,  True,  True,  True,  True,  True],\n",
       "        [ True,  True,  True,  True,  True,  True,  True,  True,  True],\n",
       "        [ True,  True,  True,  True,  True,  True,  True,  True,  True],\n",
       "        [ True,  True,  True,  True,  True,  True,  True,  True,  True],\n",
       "        [ True,  True,  True,  True,  True,  True,  True,  True,  True],\n",
       "        [ True,  True,  True,  True,  True,  True,  True,  True,  True],\n",
       "        [ True,  True,  True,  True,  True,  True,  True,  True,  True],\n",
       "        [ True,  True,  True,  True,  True,  True,  True,  True,  True],\n",
       "        [ True,  True,  True,  True,  True,  True,  True,  True,  True]])"
      ]
     },
     "execution_count": 301,
     "metadata": {},
     "output_type": "execute_result"
    }
   ],
   "source": [
    "PARTED_MAT_MUL == REG_MAT_MUL"
   ]
  },
  {
   "cell_type": "markdown",
   "metadata": {},
   "source": [
    "# Encoding procedure\n",
    "\n",
    "### S_t, R_t submatrices generation, t = 1...T"
   ]
  },
  {
   "cell_type": "code",
   "execution_count": 302,
   "metadata": {},
   "outputs": [
    {
     "name": "stdout",
     "output_type": "stream",
     "text": [
      "Submatrices R_i have been generated\n"
     ]
    },
    {
     "data": {
      "text/plain": [
       "'R_ = '"
      ]
     },
     "metadata": {},
     "output_type": "display_data"
    },
    {
     "data": {
      "text/plain": [
       "array([[[ 7.,  7.,  2.],\n",
       "        [ 6.,  4.,  2.],\n",
       "        [ 8.,  5.,  1.]],\n",
       "\n",
       "       [[ 3.,  8.,  4.],\n",
       "        [10.,  4.,  4.],\n",
       "        [ 9.,  2., 10.]]])"
      ]
     },
     "metadata": {},
     "output_type": "display_data"
    },
    {
     "name": "stdout",
     "output_type": "stream",
     "text": [
      "Submatrices S_i have been generated\n"
     ]
    },
    {
     "data": {
      "text/plain": [
       "'S_ = '"
      ]
     },
     "metadata": {},
     "output_type": "display_data"
    },
    {
     "data": {
      "text/plain": [
       "array([[[ 1.,  3.,  7.],\n",
       "        [10.,  2.,  8.],\n",
       "        [ 9.,  4.,  7.]],\n",
       "\n",
       "       [[ 5.,  1.,  3.],\n",
       "        [ 3.,  9.,  8.],\n",
       "        [11.,  8.,  6.]]])"
      ]
     },
     "metadata": {},
     "output_type": "display_data"
    }
   ],
   "source": [
    "# S submatrices\n",
    "print('Submatrices R_i have been generated')\n",
    "R_ = np.zeros([T, int(size_A / K), width_AB])\n",
    "for i in range(T):\n",
    "    R_[i] = np.matrix(np.random.randint(1, bound, (int(size_A / K), width_AB))) % p\n",
    "display('R_ = ', R_)\n",
    "\n",
    "# R submatrices\n",
    "print('Submatrices S_i have been generated')\n",
    "S_ = np.zeros([T, width_AB, int(size_B / L)])\n",
    "for i in range(T):\n",
    "    S_[i] = np.matrix(np.random.randint(1, bound, (width_AB, int(size_B / L)))) % p\n",
    "display('S_ = ', S_)"
   ]
  },
  {
   "cell_type": "markdown",
   "metadata": {},
   "source": [
    "# Vector of coefficients of f(x) and g(x): A1,A2,A3,R1,R2..."
   ]
  },
  {
   "cell_type": "code",
   "execution_count": 303,
   "metadata": {},
   "outputs": [
    {
     "data": {
      "text/plain": [
       "'F_X = '"
      ]
     },
     "metadata": {},
     "output_type": "display_data"
    },
    {
     "data": {
      "text/plain": [
       "array([[[ 0.,  9.,  7.],\n",
       "        [ 4.,  0.,  7.],\n",
       "        [ 8., 11.,  8.]],\n",
       "\n",
       "       [[ 8.,  1.,  8.],\n",
       "        [ 7.,  2.,  0.],\n",
       "        [ 1.,  7.,  1.]],\n",
       "\n",
       "       [[ 2.,  0.,  9.],\n",
       "        [ 2.,  8.,  6.],\n",
       "        [ 4.,  4.,  9.]],\n",
       "\n",
       "       [[ 7.,  7.,  2.],\n",
       "        [ 6.,  4.,  2.],\n",
       "        [ 8.,  5.,  1.]],\n",
       "\n",
       "       [[ 3.,  8.,  4.],\n",
       "        [10.,  4.,  4.],\n",
       "        [ 9.,  2., 10.]]])"
      ]
     },
     "metadata": {},
     "output_type": "display_data"
    },
    {
     "data": {
      "text/plain": [
       "'G_X = '"
      ]
     },
     "metadata": {},
     "output_type": "display_data"
    },
    {
     "data": {
      "text/plain": [
       "array([[[11.,  9., 11.],\n",
       "        [ 6.,  1.,  8.],\n",
       "        [ 9.,  8.,  5.]],\n",
       "\n",
       "       [[10.,  1.,  2.],\n",
       "        [ 9.,  9.,  4.],\n",
       "        [ 3.,  5.,  8.]],\n",
       "\n",
       "       [[ 1.,  5.,  8.],\n",
       "        [ 4.,  7.,  8.],\n",
       "        [11.,  8.,  2.]],\n",
       "\n",
       "       [[ 1.,  3.,  7.],\n",
       "        [10.,  2.,  8.],\n",
       "        [ 9.,  4.,  7.]],\n",
       "\n",
       "       [[ 5.,  1.,  3.],\n",
       "        [ 3.,  9.,  8.],\n",
       "        [11.,  8.,  6.]]])"
      ]
     },
     "metadata": {},
     "output_type": "display_data"
    }
   ],
   "source": [
    "F_X = np.vstack((A_, R_)) # vertical concatination (F_X = A1,A2,A3,R1,R2)\n",
    "G_X = np.vstack((B_, S_)) # vertical concatination (G_X = B1,B2,B3,S1,S2)\n",
    "\n",
    "display('F_X = ', F_X)\n",
    "display('G_X = ', G_X)"
   ]
  },
  {
   "cell_type": "markdown",
   "metadata": {},
   "source": [
    "# Alpha and beta arrays: alphas(K+T), betas(L+T), N servers"
   ]
  },
  {
   "cell_type": "code",
   "execution_count": 304,
   "metadata": {},
   "outputs": [],
   "source": [
    "# GASP BIG (N calculation)\n",
    "def get_N_GB(K, L, T):\n",
    "    N = 0\n",
    "    if L <= K:\n",
    "        if T < K:\n",
    "            N = (K + T) * (L + 1) - 1\n",
    "        elif T >= K:\n",
    "            N = 2 * K * L + 2 * T - 1\n",
    "    if L > K:\n",
    "        if T < L:\n",
    "            N = (L + T) * (K + 1) - 1\n",
    "        elif T >= L:\n",
    "            N = 2 * K * L + 2 * T - 1\n",
    "    return N\n",
    "\n",
    "# GASP SMALL (N calculation)\n",
    "def get_N_GS(K, L, T):\n",
    "    N = 0\n",
    "    if K <= L:\n",
    "        if L == 1 and T < K:\n",
    "            N = 2*K + T*T\n",
    "        elif L == 1 and T >= K:\n",
    "            N = K*T + K + T\n",
    "        elif L >=2 and T == 1 and T < K:\n",
    "            N = K*L + K + L\n",
    "        elif L >=2 and T >=2 and T < K:\n",
    "            N = K*L + K + L + T*T + T - 3\n",
    "        elif L >= 2 and K <= T and T <= K * (L - 1) + 1:\n",
    "            N = K*L + K*T + L + 2*T - 3 - ((T - 2) / K)\n",
    "        elif L >= 2 and T >= K * (L - 1) + 1:\n",
    "            N = 2*K*L + K*T - K + T\n",
    "    if K > L:\n",
    "        if K == 1 and T < L:\n",
    "            N = 2*L + T*T\n",
    "        elif K == 1 and T >= L:\n",
    "            N = L*T + L + T\n",
    "        elif K >=2 and T == 1 and T < L:\n",
    "            N = K*L + K + L\n",
    "        elif K >=2 and T >= 2 and T < L:\n",
    "            N = K*L + K + L + T*T + T - 3\n",
    "        elif K >= 2 and L <= T and T <= L * (K - 1) + 1:\n",
    "            N = K*L + L*T + K + 2*T - 3 - ((T - 2) / L)\n",
    "        elif K >= 2 and T >= L * (K - 1) + 1:\n",
    "            N = 2*K*L + L*T - L + T\n",
    "    return N\n",
    "\n",
    "# the set of degrees\n",
    "def GASP_big(K, L, T):\n",
    "    if K >= L:\n",
    "        a = np.zeros([K + T])\n",
    "        b = np.zeros([L + T])\n",
    "        for k in range(0, K, 1):\n",
    "            a[k] = k\n",
    "        for t in range(0, T, 1):\n",
    "            a[K + t] = K * L + t\n",
    "\n",
    "        for l in range(0, L, 1):\n",
    "            b[l] = K * l\n",
    "        for t in range(0, T, 1):\n",
    "            b[L + t] = K * L + t\n",
    "\n",
    "    if K < L:\n",
    "        a = np.zeros([L + T])\n",
    "        b = np.zeros([K + T])\n",
    "        \n",
    "        for l in range(0, L, 1):\n",
    "            a[l] = K * l\n",
    "        for t in range(0, T, 1):\n",
    "            a[L + t] = K * L + t\n",
    "        \n",
    "        for k in range(0, K, 1):\n",
    "            b[k] = k\n",
    "        for t in range(0, T, 1):\n",
    "            b[K + t] = K * L + t\n",
    "\n",
    "    return a, b\n",
    "\n",
    "# the set of degrees\n",
    "def GASP_small(K, L, T):\n",
    "    if K <= L:\n",
    "        a = np.zeros([K + T])\n",
    "        b = np.zeros([L + T])\n",
    "        for k in range(0, K, 1):\n",
    "            a[k] = k\n",
    "        for t in range(0, T, 1):\n",
    "            a[K + t] = K * L + K * t\n",
    "\n",
    "        for l in range(0, L, 1):\n",
    "            b[l] = K * l\n",
    "        for t in range(0, T, 1):\n",
    "            b[L + t] = K * L + t\n",
    "\n",
    "    if K > L:\n",
    "        a = np.zeros([L + T])\n",
    "        b = np.zeros([K + T])\n",
    "\n",
    "        for l in range(0, L, 1):\n",
    "            a[l] = K * l\n",
    "        for t in range(0, T, 1):\n",
    "            a[L + t] = K * L + t\n",
    "        \n",
    "        for k in range(0, K, 1):\n",
    "            b[k] = k\n",
    "        for t in range(0, T, 1):\n",
    "            b[K + t] = K * L + K * t\n",
    "\n",
    "    return a, b\n",
    "\n",
    "def GASP(K, L, T):\n",
    "    min_KL = np.minimum(K, L)\n",
    "    \n",
    "    if T < min_KL:\n",
    "        alp, bet = GASP_small(K, L, T)\n",
    "        N = get_N_GS(K, L, T)\n",
    "        print('T < min(K,L) - GASP_small, N = ', N)\n",
    "        \n",
    "    if T >= min_KL:\n",
    "        alp, bet = GASP_big(K, L, T)\n",
    "        N = get_N_GB(K, L, T)\n",
    "        print('T >= min(K,L) - GASP_big, N = ', N)\n",
    "        \n",
    "    return alp, bet, N"
   ]
  },
  {
   "cell_type": "markdown",
   "metadata": {},
   "source": [
    "# Print N, alpha and beta sets corresponding current K,L,T"
   ]
  },
  {
   "cell_type": "code",
   "execution_count": 305,
   "metadata": {},
   "outputs": [
    {
     "name": "stdout",
     "output_type": "stream",
     "text": [
      "T < min(K,L) - GASP_small, N =  18\n"
     ]
    },
    {
     "data": {
      "text/plain": [
       "'alphas = '"
      ]
     },
     "metadata": {},
     "output_type": "display_data"
    },
    {
     "data": {
      "text/plain": [
       "array([ 0.,  1.,  2.,  9., 12.])"
      ]
     },
     "metadata": {},
     "output_type": "display_data"
    },
    {
     "data": {
      "text/plain": [
       "'betas = '"
      ]
     },
     "metadata": {},
     "output_type": "display_data"
    },
    {
     "data": {
      "text/plain": [
       "array([ 0.,  3.,  6.,  9., 10.])"
      ]
     },
     "metadata": {},
     "output_type": "display_data"
    }
   ],
   "source": [
    "alphas, betas, N = GASP(K = K, L = L, T = T)\n",
    "display('alphas = ', alphas)\n",
    "display('betas = ', betas)"
   ]
  },
  {
   "cell_type": "markdown",
   "metadata": {},
   "source": [
    "# Let's build the degree table"
   ]
  },
  {
   "cell_type": "code",
   "execution_count": 306,
   "metadata": {},
   "outputs": [
    {
     "data": {
      "text/plain": [
       "'degree_table ='"
      ]
     },
     "metadata": {},
     "output_type": "display_data"
    },
    {
     "data": {
      "text/plain": [
       "array([[ 0,  3,  6,  9, 10],\n",
       "       [ 1,  4,  7, 10, 11],\n",
       "       [ 2,  5,  8, 11, 12],\n",
       "       [ 9, 12, 15, 18, 19],\n",
       "       [12, 15, 18, 21, 22]])"
      ]
     },
     "metadata": {},
     "output_type": "display_data"
    }
   ],
   "source": [
    "degree_table = np.zeros([alphas.shape[0], betas.shape[0]], dtype = np.int)\n",
    "\n",
    "for i in range(alphas.shape[0]):\n",
    "    for j in range(betas.shape[0]):\n",
    "        degree_table[i,j] = alphas[i] + betas[j]\n",
    "        \n",
    "display('degree_table =', degree_table)"
   ]
  },
  {
   "cell_type": "markdown",
   "metadata": {},
   "source": [
    "# The set of unique polnom's powers"
   ]
  },
  {
   "cell_type": "code",
   "execution_count": 307,
   "metadata": {},
   "outputs": [
    {
     "name": "stdout",
     "output_type": "stream",
     "text": [
      "All degrees in table =  [ 0  1  2  3  4  5  6  7  8  9 10 11 12 15 18 19 21 22]\n"
     ]
    }
   ],
   "source": [
    "J = np.unique(degree_table.reshape([degree_table.size]))\n",
    "\n",
    "print('All degrees in table = ', J)"
   ]
  },
  {
   "cell_type": "markdown",
   "metadata": {},
   "source": [
    "# Set of x points for N servers"
   ]
  },
  {
   "cell_type": "code",
   "execution_count": 308,
   "metadata": {},
   "outputs": [
    {
     "data": {
      "text/plain": [
       "array([[ 1.,  1.,  1.,  1.,  1.],\n",
       "       [ 2.,  2.,  2.,  2.,  2.],\n",
       "       [ 3.,  3.,  3.,  3.,  3.],\n",
       "       [ 4.,  4.,  4.,  4.,  4.],\n",
       "       [ 5.,  5.,  5.,  5.,  5.],\n",
       "       [ 6.,  6.,  6.,  6.,  6.],\n",
       "       [ 7.,  7.,  7.,  7.,  7.],\n",
       "       [ 8.,  8.,  8.,  8.,  8.],\n",
       "       [ 9.,  9.,  9.,  9.,  9.],\n",
       "       [10., 10., 10., 10., 10.],\n",
       "       [11., 11., 11., 11., 11.],\n",
       "       [12., 12., 12., 12., 12.],\n",
       "       [13., 13., 13., 13., 13.],\n",
       "       [14., 14., 14., 14., 14.],\n",
       "       [15., 15., 15., 15., 15.],\n",
       "       [16., 16., 16., 16., 16.],\n",
       "       [17., 17., 17., 17., 17.],\n",
       "       [18., 18., 18., 18., 18.]])"
      ]
     },
     "execution_count": 308,
     "metadata": {},
     "output_type": "execute_result"
    }
   ],
   "source": [
    "x = np.arange(1, N+1).reshape([N,1]) @ np.ones([1,K+T])\n",
    "x"
   ]
  },
  {
   "cell_type": "markdown",
   "metadata": {},
   "source": [
    "# Set of alphas and betas for N servers"
   ]
  },
  {
   "cell_type": "code",
   "execution_count": 309,
   "metadata": {},
   "outputs": [
    {
     "data": {
      "text/plain": [
       "array([[ 0.,  1.,  2.,  9., 12.],\n",
       "       [ 0.,  1.,  2.,  9., 12.],\n",
       "       [ 0.,  1.,  2.,  9., 12.],\n",
       "       [ 0.,  1.,  2.,  9., 12.],\n",
       "       [ 0.,  1.,  2.,  9., 12.],\n",
       "       [ 0.,  1.,  2.,  9., 12.],\n",
       "       [ 0.,  1.,  2.,  9., 12.],\n",
       "       [ 0.,  1.,  2.,  9., 12.],\n",
       "       [ 0.,  1.,  2.,  9., 12.],\n",
       "       [ 0.,  1.,  2.,  9., 12.],\n",
       "       [ 0.,  1.,  2.,  9., 12.],\n",
       "       [ 0.,  1.,  2.,  9., 12.],\n",
       "       [ 0.,  1.,  2.,  9., 12.],\n",
       "       [ 0.,  1.,  2.,  9., 12.],\n",
       "       [ 0.,  1.,  2.,  9., 12.],\n",
       "       [ 0.,  1.,  2.,  9., 12.],\n",
       "       [ 0.,  1.,  2.,  9., 12.],\n",
       "       [ 0.,  1.,  2.,  9., 12.]])"
      ]
     },
     "execution_count": 309,
     "metadata": {},
     "output_type": "execute_result"
    }
   ],
   "source": [
    "alfa = np.ones([N,1]) @ alphas.reshape([1,alphas.size])\n",
    "beta = np.ones([N,1]) @ betas.reshape([1,betas.size])\n",
    "alfa"
   ]
  },
  {
   "cell_type": "markdown",
   "metadata": {},
   "source": [
    "# Set of x^alphas and x^betas for N servers"
   ]
  },
  {
   "cell_type": "code",
   "execution_count": 310,
   "metadata": {},
   "outputs": [
    {
     "data": {
      "text/plain": [
       "array([[ 1.,  1.,  1.,  1.,  1.],\n",
       "       [ 1.,  2.,  4., 19.,  7.],\n",
       "       [ 1.,  3.,  9., 21., 16.],\n",
       "       [ 1.,  4., 16., 13., 20.],\n",
       "       [ 1.,  5., 25.,  4.,  7.],\n",
       "       [ 1.,  6.,  7., 22., 25.],\n",
       "       [ 1.,  7., 20., 20., 16.],\n",
       "       [ 1.,  8.,  6., 15., 24.],\n",
       "       [ 1.,  9., 23.,  6., 24.],\n",
       "       [ 1., 10., 13., 18., 20.],\n",
       "       [ 1., 11.,  5.,  2., 23.],\n",
       "       [ 1., 12., 28., 12.,  1.],\n",
       "       [ 1., 13., 24.,  5., 23.],\n",
       "       [ 1., 14., 22.,  3., 25.],\n",
       "       [ 1., 15., 22., 26., 25.],\n",
       "       [ 1., 16., 24., 24., 23.],\n",
       "       [ 1., 17., 28., 17.,  1.],\n",
       "       [ 1., 18.,  5., 27., 23.]])"
      ]
     },
     "execution_count": 310,
     "metadata": {},
     "output_type": "execute_result"
    }
   ],
   "source": [
    "f_x_coefs = x**alfa % p\n",
    "g_x_coefs = x**beta  % p\n",
    "f_x_coefs"
   ]
  },
  {
   "cell_type": "markdown",
   "metadata": {},
   "source": [
    "# Polynoms f(x) and g(x) for each server (separate values, not sum)"
   ]
  },
  {
   "cell_type": "code",
   "execution_count": 311,
   "metadata": {},
   "outputs": [],
   "source": [
    "m = int(size_A / K) # size of submatrixes A\n",
    "n = int(size_B / L) # size of submatrixes B"
   ]
  },
  {
   "cell_type": "code",
   "execution_count": 312,
   "metadata": {},
   "outputs": [
    {
     "data": {
      "text/plain": [
       "'f_x[i] = '"
      ]
     },
     "metadata": {},
     "output_type": "display_data"
    },
    {
     "data": {
      "text/plain": [
       "array([[[ 0,  9,  7],\n",
       "        [ 4,  0,  7],\n",
       "        [ 8, 11,  8]],\n",
       "\n",
       "       [[16,  2, 16],\n",
       "        [14,  4,  0],\n",
       "        [ 2, 14,  2]],\n",
       "\n",
       "       [[ 8,  0,  7],\n",
       "        [ 8,  3, 24],\n",
       "        [16, 16,  7]],\n",
       "\n",
       "       [[17, 17,  9],\n",
       "        [27, 18,  9],\n",
       "        [ 7,  8, 19]],\n",
       "\n",
       "       [[21, 27, 28],\n",
       "        [12, 28, 28],\n",
       "        [ 5, 14, 12]]])"
      ]
     },
     "metadata": {},
     "output_type": "display_data"
    }
   ],
   "source": [
    "f_x = np.zeros([N, alphas.size, m,n])\n",
    "g_x = np.zeros([N, betas.size, m,n])\n",
    "\n",
    "for i in range(N):\n",
    "    for j in range(5):\n",
    "        f_x[i,j] = f_x_coefs[i,j] * F_X[j] % p\n",
    "        g_x[i,j] = g_x_coefs[i,j] * G_X[j] % p\n",
    "        \n",
    "display('f_x[i] = ', f_x[1].astype('int'))"
   ]
  },
  {
   "cell_type": "markdown",
   "metadata": {},
   "source": [
    "# Polynoms f(x) and g(x) for each server - sum result along 0 axis: f(a_n) and g(a_n), a_n = 1...N "
   ]
  },
  {
   "cell_type": "code",
   "execution_count": 313,
   "metadata": {},
   "outputs": [
    {
     "data": {
      "text/plain": [
       "'f_x_i[i] = '"
      ]
     },
     "metadata": {},
     "output_type": "display_data"
    },
    {
     "data": {
      "text/plain": [
       "array([[ 4, 26,  9],\n",
       "       [ 7, 24, 10],\n",
       "       [ 9,  5, 19]])"
      ]
     },
     "metadata": {},
     "output_type": "display_data"
    },
    {
     "data": {
      "text/plain": [
       "'f_x_i[i]*g_x_i[i] = '"
      ]
     },
     "metadata": {},
     "output_type": "display_data"
    },
    {
     "data": {
      "text/plain": [
       "array([[ 64., 676.,  27.],\n",
       "       [  0.,  48., 220.],\n",
       "       [189.,  60., 133.]])"
      ]
     },
     "metadata": {},
     "output_type": "display_data"
    }
   ],
   "source": [
    "f_x_i = np.zeros([N,m,n])\n",
    "g_x_i = np.zeros([N,m,n])\n",
    "for i in range(N):\n",
    "    f_x_i[i] = f_x[i].sum(axis = 0) % p\n",
    "    g_x_i[i] = g_x[i].sum(axis = 0) % p\n",
    "\n",
    "display('f_x_i[i] = ', f_x_i[1].astype('int'))\n",
    "display('f_x_i[i]*g_x_i[i] = ', (f_x_i[1]*g_x_i[1]))"
   ]
  },
  {
   "cell_type": "markdown",
   "metadata": {},
   "source": [
    "# Server calculations imitation: h(a_n) = f(a_n) * g(a_n), a_n = 1...N"
   ]
  },
  {
   "cell_type": "code",
   "execution_count": 314,
   "metadata": {},
   "outputs": [
    {
     "data": {
      "text/plain": [
       "'h_i = '"
      ]
     },
     "metadata": {},
     "output_type": "display_data"
    },
    {
     "data": {
      "text/plain": [
       "array([[[ 9., 11.,  2.],\n",
       "        [ 0., 11., 17.],\n",
       "        [14.,  0.,  0.]],\n",
       "\n",
       "       [[ 6.,  9., 27.],\n",
       "        [ 0., 19., 17.],\n",
       "        [15.,  2., 17.]],\n",
       "\n",
       "       [[ 2.,  5., 28.],\n",
       "        [28., 21.,  2.],\n",
       "        [11., 18.,  0.]],\n",
       "\n",
       "       [[ 7., 17., 22.],\n",
       "        [18., 10., 23.],\n",
       "        [ 4., 26., 10.]],\n",
       "\n",
       "       [[24., 17., 24.],\n",
       "        [17., 28.,  5.],\n",
       "        [28., 13., 17.]],\n",
       "\n",
       "       [[ 6.,  6., 25.],\n",
       "        [16.,  8.,  8.],\n",
       "        [ 7.,  8.,  1.]],\n",
       "\n",
       "       [[27., 27., 22.],\n",
       "        [ 2., 19., 11.],\n",
       "        [26., 17., 11.]],\n",
       "\n",
       "       [[ 9., 15., 26.],\n",
       "        [ 2., 25., 11.],\n",
       "        [18., 12., 16.]],\n",
       "\n",
       "       [[ 0., 23., 22.],\n",
       "        [21., 27., 19.],\n",
       "        [13.,  7.,  0.]],\n",
       "\n",
       "       [[ 7., 24., 11.],\n",
       "        [24., 26.,  6.],\n",
       "        [12., 23., 20.]],\n",
       "\n",
       "       [[18., 25., 19.],\n",
       "        [22.,  3., 12.],\n",
       "        [11.,  4.,  0.]],\n",
       "\n",
       "       [[ 4.,  6., 12.],\n",
       "        [21., 25.,  0.],\n",
       "        [ 5., 14., 27.]],\n",
       "\n",
       "       [[24., 14., 27.],\n",
       "        [ 8.,  8., 26.],\n",
       "        [ 2., 19.,  6.]],\n",
       "\n",
       "       [[ 2., 18.,  5.],\n",
       "        [26., 23.,  5.],\n",
       "        [ 7., 22.,  2.]],\n",
       "\n",
       "       [[ 7.,  0., 23.],\n",
       "        [28., 27., 27.],\n",
       "        [17.,  2.,  2.]],\n",
       "\n",
       "       [[18.,  0.,  6.],\n",
       "        [ 6.,  5.,  9.],\n",
       "        [24., 27., 21.]],\n",
       "\n",
       "       [[15.,  6.,  4.],\n",
       "        [16.,  5., 20.],\n",
       "        [13., 11., 10.]],\n",
       "\n",
       "       [[20., 26., 24.],\n",
       "        [19., 12.,  6.],\n",
       "        [23.,  9.,  6.]]])"
      ]
     },
     "metadata": {},
     "output_type": "display_data"
    }
   ],
   "source": [
    "h_i = np.zeros([N,m,n])\n",
    "for server in range(N):\n",
    "    h_i[server] = f_x_i[server] * g_x_i[server] % p\n",
    "    \n",
    "# h_i = h_i.reshape([N,1])\n",
    "display('h_i = ', h_i)"
   ]
  },
  {
   "cell_type": "markdown",
   "metadata": {},
   "source": [
    "# Decoding using inverse Vandermond matrix"
   ]
  },
  {
   "cell_type": "code",
   "execution_count": 315,
   "metadata": {},
   "outputs": [
    {
     "name": "stdout",
     "output_type": "stream",
     "text": [
      "Range 0 to max power = [ 0  1  2  3  4  5  6  7  8  9 10 11 12 13 14 15 16 17 18 19 20 21 22]\n",
      "All powers in table =  [ 0  1  2  3  4  5  6  7  8  9 10 11 12 15 18 19 21 22]\n",
      "Powers with zero coefficients =  [14 15 17 18 21]\n"
     ]
    }
   ],
   "source": [
    "# find all numbers from zero to max value in the degree table\n",
    "numbers_range = np.arange(0, max(J)+1).astype('int')\n",
    "print('Range 0 to max power =', numbers_range)\n",
    "\n",
    "# find all numbers from the degree table\n",
    "degree_range_in_table = J\n",
    "print('All powers in table = ', degree_range_in_table)\n",
    "\n",
    "# find all numbers from the numbers_range which are not in the degree table (to delete)\n",
    "degree_to_delete = np.delete(numbers_range, obj = degree_range_in_table, axis = 0)\n",
    "print('Powers with zero coefficients = ', degree_to_delete+1)"
   ]
  },
  {
   "cell_type": "code",
   "execution_count": 316,
   "metadata": {},
   "outputs": [
    {
     "data": {
      "text/plain": [
       "array([[ 1.,  1.,  1.,  1.,  1.,  1.,  1.,  1.,  1.,  1.,  1.,  1.,  1.,\n",
       "         1.,  1.,  1.,  1.,  1.,  1.,  1.,  1.,  1.,  1.],\n",
       "       [ 1.,  2.,  4.,  8., 16.,  3.,  6., 12., 24., 19.,  9., 18.,  7.,\n",
       "        14., 28., 27., 25., 21., 13., 26., 23., 17.,  5.],\n",
       "       [ 1.,  3.,  9., 27., 23., 11.,  4., 12.,  7., 21.,  5., 15., 16.,\n",
       "        19., 28., 26., 20.,  2.,  6., 18., 25., 17., 22.],\n",
       "       [ 1.,  4., 16.,  6., 24.,  9.,  7., 28., 25., 13., 23.,  5., 20.,\n",
       "        22.,  1.,  4., 16.,  6., 24.,  9.,  7., 28., 25.],\n",
       "       [ 1.,  5., 25.,  9., 16., 22., 23., 28., 24.,  4., 20., 13.,  7.,\n",
       "         6.,  1.,  5., 25.,  9., 16., 22., 23., 28., 24.],\n",
       "       [ 1.,  6.,  7., 13., 20.,  4., 24., 28., 23., 22., 16.,  9., 25.,\n",
       "         5.,  1.,  6.,  7., 13., 20.,  4., 24., 28., 23.],\n",
       "       [ 1.,  7., 20., 24., 23., 16., 25.,  1.,  7., 20., 24., 23., 16.,\n",
       "        25.,  1.,  7., 20., 24., 23., 16., 25.,  1.,  7.],\n",
       "       [ 1.,  8.,  6., 19.,  7., 27., 13., 17., 20., 15.,  4.,  3., 24.,\n",
       "        18., 28., 21., 23., 10., 22.,  2., 16., 12.,  9.],\n",
       "       [ 1.,  9., 23.,  4.,  7.,  5., 16., 28., 20.,  6., 25., 22., 24.,\n",
       "        13.,  1.,  9., 23.,  4.,  7.,  5., 16., 28., 20.],\n",
       "       [ 1., 10., 13., 14., 24.,  8., 22., 17., 25., 18.,  6.,  2., 20.,\n",
       "        26., 28., 19., 16., 15.,  5., 21.,  7., 12.,  4.],\n",
       "       [ 1., 11.,  5., 26., 25., 14.,  9., 12., 16.,  2., 22., 10., 23.,\n",
       "        21., 28., 18., 24.,  3.,  4., 15., 20., 17., 13.],\n",
       "       [ 1., 12., 28., 17.,  1., 12., 28., 17.,  1., 12., 28., 17.,  1.,\n",
       "        12., 28., 17.,  1., 12., 28., 17.,  1., 12., 28.],\n",
       "       [ 1., 13., 24., 22., 25.,  6., 20., 28., 16.,  5.,  7.,  4., 23.,\n",
       "         9.,  1., 13., 24., 22., 25.,  6., 20., 28., 16.],\n",
       "       [ 1., 14., 22., 18., 20., 19.,  5., 12., 23.,  3., 13.,  8., 25.,\n",
       "         2., 28., 15.,  7., 11.,  9., 10., 24., 17.,  6.],\n",
       "       [ 1., 15., 22., 11., 20., 10.,  5., 17., 23., 26., 13., 21., 25.,\n",
       "        27., 28., 14.,  7., 18.,  9., 19., 24., 12.,  6.],\n",
       "       [ 1., 16., 24.,  7., 25., 23., 20.,  1., 16., 24.,  7., 25., 23.,\n",
       "        20.,  1., 16., 24.,  7., 25., 23., 20.,  1., 16.],\n",
       "       [ 1., 17., 28., 12.,  1., 17., 28., 12.,  1., 17., 28., 12.,  1.,\n",
       "        17., 28., 12.,  1., 17., 28., 12.,  1., 17., 28.],\n",
       "       [ 1., 18.,  5.,  3., 25., 15.,  9., 17., 16., 27., 22., 19., 23.,\n",
       "         8., 28., 11., 24., 26.,  4., 14., 20., 12., 13.]])"
      ]
     },
     "execution_count": 316,
     "metadata": {},
     "output_type": "execute_result"
    }
   ],
   "source": [
    "vand = np.zeros([N,int(max(J)+1)])\n",
    "for a in range(1, N+1):\n",
    "    vand[a-1] = np.array([a**x for x in range(int(max(J)+1))]) % p\n",
    "vand"
   ]
  },
  {
   "cell_type": "code",
   "execution_count": 317,
   "metadata": {},
   "outputs": [
    {
     "name": "stdout",
     "output_type": "stream",
     "text": [
      "(18, 18)\n"
     ]
    },
    {
     "data": {
      "text/plain": [
       "array([[ 1.,  1.,  1.,  1.,  1.,  1.,  1.,  1.,  1.,  1.,  1.,  1.,  1.,\n",
       "         1.,  1.,  1.,  1.,  1.],\n",
       "       [ 1.,  2.,  4.,  8., 16.,  3.,  6., 12., 24., 19.,  9., 18.,  7.,\n",
       "        27., 13., 26., 17.,  5.],\n",
       "       [ 1.,  3.,  9., 27., 23., 11.,  4., 12.,  7., 21.,  5., 15., 16.,\n",
       "        26.,  6., 18., 17., 22.],\n",
       "       [ 1.,  4., 16.,  6., 24.,  9.,  7., 28., 25., 13., 23.,  5., 20.,\n",
       "         4., 24.,  9., 28., 25.],\n",
       "       [ 1.,  5., 25.,  9., 16., 22., 23., 28., 24.,  4., 20., 13.,  7.,\n",
       "         5., 16., 22., 28., 24.],\n",
       "       [ 1.,  6.,  7., 13., 20.,  4., 24., 28., 23., 22., 16.,  9., 25.,\n",
       "         6., 20.,  4., 28., 23.],\n",
       "       [ 1.,  7., 20., 24., 23., 16., 25.,  1.,  7., 20., 24., 23., 16.,\n",
       "         7., 23., 16.,  1.,  7.],\n",
       "       [ 1.,  8.,  6., 19.,  7., 27., 13., 17., 20., 15.,  4.,  3., 24.,\n",
       "        21., 22.,  2., 12.,  9.],\n",
       "       [ 1.,  9., 23.,  4.,  7.,  5., 16., 28., 20.,  6., 25., 22., 24.,\n",
       "         9.,  7.,  5., 28., 20.],\n",
       "       [ 1., 10., 13., 14., 24.,  8., 22., 17., 25., 18.,  6.,  2., 20.,\n",
       "        19.,  5., 21., 12.,  4.],\n",
       "       [ 1., 11.,  5., 26., 25., 14.,  9., 12., 16.,  2., 22., 10., 23.,\n",
       "        18.,  4., 15., 17., 13.],\n",
       "       [ 1., 12., 28., 17.,  1., 12., 28., 17.,  1., 12., 28., 17.,  1.,\n",
       "        17., 28., 17., 12., 28.],\n",
       "       [ 1., 13., 24., 22., 25.,  6., 20., 28., 16.,  5.,  7.,  4., 23.,\n",
       "        13., 25.,  6., 28., 16.],\n",
       "       [ 1., 14., 22., 18., 20., 19.,  5., 12., 23.,  3., 13.,  8., 25.,\n",
       "        15.,  9., 10., 17.,  6.],\n",
       "       [ 1., 15., 22., 11., 20., 10.,  5., 17., 23., 26., 13., 21., 25.,\n",
       "        14.,  9., 19., 12.,  6.],\n",
       "       [ 1., 16., 24.,  7., 25., 23., 20.,  1., 16., 24.,  7., 25., 23.,\n",
       "        16., 25., 23.,  1., 16.],\n",
       "       [ 1., 17., 28., 12.,  1., 17., 28., 12.,  1., 17., 28., 12.,  1.,\n",
       "        12., 28., 12., 17., 28.],\n",
       "       [ 1., 18.,  5.,  3., 25., 15.,  9., 17., 16., 27., 22., 19., 23.,\n",
       "        11.,  4., 14., 12., 13.]])"
      ]
     },
     "execution_count": 317,
     "metadata": {},
     "output_type": "execute_result"
    }
   ],
   "source": [
    "cut_vand = np.delete(vand, obj = degree_to_delete, axis = 1) # delete places with zero coeffs of x_i\n",
    "print(cut_vand.shape)\n",
    "cut_vand"
   ]
  },
  {
   "cell_type": "code",
   "execution_count": 318,
   "metadata": {},
   "outputs": [
    {
     "data": {
      "text/plain": [
       "26.0"
      ]
     },
     "execution_count": 318,
     "metadata": {},
     "output_type": "execute_result"
    }
   ],
   "source": [
    "from numpy import linalg as LA\n",
    "\n",
    "LA.det(cut_vand) % p"
   ]
  },
  {
   "cell_type": "code",
   "execution_count": 319,
   "metadata": {},
   "outputs": [
    {
     "data": {
      "text/plain": [
       "array([[ 1.06687752e+00, -8.22498370e-03,  4.34866447e-03,\n",
       "         2.50839673e-02, -1.18793796e-02, -3.08029775e-02,\n",
       "         1.19789183e-02,  2.82572012e-03,  2.12595574e-02,\n",
       "         1.73552147e-02, -6.51815356e-03, -2.62098934e-02,\n",
       "        -3.75320467e-03, -2.93344339e-02, -1.39679606e-02,\n",
       "        -4.87440071e-03,  2.78390678e-03, -1.69480807e-02],\n",
       "       [ 4.23459161e-03,  3.57888004e-03, -2.62123124e-02,\n",
       "        -4.74768330e-02,  1.47637950e-03,  6.00343480e-02,\n",
       "        -3.99933528e-02, -2.71229461e-02, -5.20846686e-02,\n",
       "        -3.35938556e-02,  4.24535685e-03,  4.61531689e-02,\n",
       "         7.10323978e-03,  6.22534761e-02,  1.66010335e-02,\n",
       "         4.81122701e-03, -1.29178664e-02,  2.89101335e-02],\n",
       "       [-6.67068355e-03, -8.77152260e-03,  1.78087551e-02,\n",
       "         9.82014414e-03, -6.95971952e-03, -9.64014171e-03,\n",
       "         1.06170138e-02, -1.39835276e-02,  9.82114500e-03,\n",
       "         1.72833701e-02, -4.67264570e-02,  1.38318710e-02,\n",
       "        -6.04618065e-03,  4.72138302e-02, -1.41422917e-02,\n",
       "        -6.95108299e-03, -6.51985292e-03,  1.53309392e-05],\n",
       "       [-4.79497564e-04, -6.11382792e-03,  4.61244421e-03,\n",
       "        -3.23371651e-02,  9.08014064e-03,  5.99585101e-02,\n",
       "        -2.64555417e-03, -1.38256050e-02, -4.25784397e-02,\n",
       "        -2.48831931e-02, -2.63866284e-03,  4.55973255e-02,\n",
       "        -1.47913466e-02,  5.50283010e-02,  2.18759067e-02,\n",
       "        -1.75432489e-02, -3.02199538e-02, -8.09613339e-03],\n",
       "       [-8.89481500e-03,  1.08166356e-02,  1.70483079e-02,\n",
       "        -4.33346188e-03, -3.59452297e-03,  2.40950384e-02,\n",
       "         1.44956897e-02, -3.32871183e-02, -2.44867275e-02,\n",
       "        -1.88435174e-03, -6.89470628e-02,  5.13256663e-02,\n",
       "         6.34566194e-03,  9.84065452e-02, -7.68756773e-02,\n",
       "        -7.57488669e-03, -5.53504139e-02,  6.26954931e-02],\n",
       "       [-7.12514008e-03, -6.84385921e-03,  7.95568003e-03,\n",
       "         3.32085510e-03,  2.23120759e-02, -3.51578924e-02,\n",
       "         1.21842391e-02,  2.83711325e-02,  8.73497320e-03,\n",
       "        -6.90123629e-04, -1.87208192e-03, -3.34852888e-02,\n",
       "         2.64402200e-03, -1.95753801e-02, -9.05526897e-03,\n",
       "        -3.20506521e-03,  1.84816074e-02,  1.30055150e-02],\n",
       "       [-4.95856477e-03,  3.50651114e-04, -3.85624374e-03,\n",
       "        -1.93020425e-02,  3.36613107e-03,  1.15274607e-02,\n",
       "         9.86664803e-03, -2.13344097e-03,  1.29189371e-02,\n",
       "         2.16160109e-02, -8.31022366e-03, -3.26184555e-03,\n",
       "         1.10375412e-03,  1.35205142e-04, -3.05082249e-02,\n",
       "         4.70615721e-03,  2.06637067e-03,  4.67326007e-03],\n",
       "       [-1.38071940e-03, -1.00565280e-02, -2.43995866e-03,\n",
       "         4.12460345e-04,  1.45578183e-02, -1.67702672e-02,\n",
       "        -1.54296486e-03,  1.58740595e-02, -5.93522508e-03,\n",
       "        -2.77514867e-04, -1.76121637e-02,  4.72898889e-02,\n",
       "         2.17072675e-02, -1.56623587e-02,  8.22879245e-03,\n",
       "        -2.01412989e-02, -4.96825264e-02,  3.34312386e-02],\n",
       "       [-5.53315439e-03,  1.83971569e-02, -7.02212675e-03,\n",
       "        -4.35240136e-02,  2.49621862e-03,  1.35334092e-01,\n",
       "        -2.45100193e-02, -4.89940012e-02, -6.80011960e-02,\n",
       "        -2.60222692e-02, -8.17003748e-02,  1.27417099e-01,\n",
       "        -6.20300946e-02,  2.02672632e-01, -4.91658991e-02,\n",
       "        -5.68181943e-03, -9.66222942e-02,  3.24900633e-02],\n",
       "       [-6.92694569e-03, -2.53781292e-03,  1.51826645e-02,\n",
       "         3.79428799e-03, -5.51848834e-03,  7.13388204e-03,\n",
       "         9.52010741e-03,  2.80144952e-03, -5.42866018e-03,\n",
       "         9.48025404e-03, -2.31697412e-02, -1.80493686e-02,\n",
       "        -1.21298340e-02, -2.89230740e-04,  1.42428630e-02,\n",
       "        -1.47419742e-02,  2.29629328e-02,  3.67361447e-03],\n",
       "       [-1.19249941e-02,  2.42737295e-03, -7.30743448e-03,\n",
       "         2.72177211e-02, -1.55666998e-02, -2.31780699e-02,\n",
       "         1.81301263e-02,  2.26658582e-03,  1.43810932e-02,\n",
       "         1.39152301e-02,  8.01683497e-03, -1.38040930e-03,\n",
       "        -1.33232282e-02, -3.75926436e-03, -1.12732901e-02,\n",
       "        -1.66743157e-02,  1.10916745e-02,  6.94106701e-03],\n",
       "       [-1.65590968e-03,  1.87530093e-02,  2.41598600e-03,\n",
       "        -4.42705338e-02,  1.27932041e-02,  4.76774891e-02,\n",
       "         3.40175815e-03, -1.84928662e-02, -1.08576077e-02,\n",
       "        -4.53169309e-02, -3.62258094e-02,  4.92511513e-02,\n",
       "        -1.49109965e-03,  6.44054729e-02, -2.07106721e-02,\n",
       "         2.10560361e-03, -5.32001109e-02,  3.14178659e-02],\n",
       "       [ 5.34329542e-04, -2.96714928e-02, -1.29137732e-02,\n",
       "         5.28730504e-02, -1.48674661e-02, -1.02569322e-01,\n",
       "         5.44419811e-03,  5.42532900e-02,  7.60137009e-02,\n",
       "         3.44840582e-02,  1.18647017e-01, -1.27515142e-01,\n",
       "         2.65585210e-02, -2.03916768e-01,  8.14559991e-02,\n",
       "         3.20299564e-02,  8.98465328e-02, -8.06866897e-02],\n",
       "       [-1.97262540e-02,  2.25580087e-02,  1.75798392e-02,\n",
       "         2.63601418e-03, -2.75867807e-02, -1.05186107e-02,\n",
       "         1.03385460e-03, -1.32312054e-03,  1.42973777e-02,\n",
       "         1.88887293e-02, -4.93953967e-02,  4.09620694e-02,\n",
       "        -3.22074588e-03,  6.12230526e-02, -6.96930773e-02,\n",
       "        -5.70034601e-03, -2.75727586e-02,  3.55581445e-02],\n",
       "       [-2.76658648e-04,  1.15155510e-02, -2.16670650e-02,\n",
       "         2.20507993e-02, -6.23548233e-03, -2.40751761e-02,\n",
       "         3.07280599e-03,  1.98449356e-02, -8.88119067e-04,\n",
       "        -1.50436568e-02,  3.18868807e-02, -2.25681579e-02,\n",
       "         2.48182277e-02, -5.70918671e-02,  2.46157700e-02,\n",
       "         1.28741021e-02,  1.96862509e-02, -2.25191404e-02],\n",
       "       [ 7.29553809e-03, -1.64579781e-02, -2.36293832e-02,\n",
       "         4.34596821e-02,  1.90007677e-02, -1.06403953e-01,\n",
       "        -7.65588045e-03,  4.29696416e-02,  4.02885601e-02,\n",
       "         2.76562576e-02,  1.44390606e-01, -1.26636684e-01,\n",
       "         3.06750410e-02, -2.32822443e-01,  1.18852588e-01,\n",
       "         2.73804406e-02,  1.01499100e-01, -8.98619016e-02],\n",
       "       [-6.12934834e-03,  1.44854762e-02,  1.61289549e-03,\n",
       "         1.02621476e-02,  9.57518302e-03, -5.80671689e-02,\n",
       "         1.08802196e-02,  2.11524733e-02,  4.39930208e-02,\n",
       "         8.71073213e-04,  5.93150399e-02, -1.38154761e-01,\n",
       "         3.52616885e-02, -1.10216840e-01,  3.67649104e-02,\n",
       "        -7.63037220e-04,  1.12297076e-01, -4.31400490e-02],\n",
       "       [ 2.74070656e-03, -1.42047365e-02,  1.64830605e-02,\n",
       "        -9.68707977e-03, -2.44937954e-03,  7.14227583e-02,\n",
       "        -3.42778074e-02, -3.11966623e-02, -3.14477215e-02,\n",
       "        -1.38383024e-02, -2.33856086e-02,  7.54333092e-02,\n",
       "        -3.94316893e-02,  8.13300712e-02, -2.72455012e-02,\n",
       "         1.99439890e-02, -4.86296747e-02,  8.44026841e-03]])"
      ]
     },
     "execution_count": 319,
     "metadata": {},
     "output_type": "execute_result"
    }
   ],
   "source": [
    "Vinv = np.linalg.inv(cut_vand)\n",
    "Vinv"
   ]
  },
  {
   "cell_type": "code",
   "execution_count": 320,
   "metadata": {},
   "outputs": [
    {
     "data": {
      "text/plain": [
       "(18, 3, 3)"
      ]
     },
     "execution_count": 320,
     "metadata": {},
     "output_type": "execute_result"
    }
   ],
   "source": [
    "h_i.shape"
   ]
  },
  {
   "cell_type": "code",
   "execution_count": 322,
   "metadata": {},
   "outputs": [
    {
     "data": {
      "text/plain": [
       "array([[ 1., -0.,  0.,  0.,  0.,  0.,  0.,  0., -0.,  0.,  0., -0.,  0.,\n",
       "         0.,  0., -0., -0.,  0.],\n",
       "       [ 0.,  1.,  0.,  0., -0., -0., -0., -0.,  0.,  0.,  0., -0.,  0.,\n",
       "        -0.,  0.,  0.,  0., -0.],\n",
       "       [-0., -0.,  1., -0.,  0., -0.,  0.,  0., -0.,  0.,  0., -0.,  0.,\n",
       "        -0.,  0.,  0.,  0., -0.],\n",
       "       [ 0.,  0., -0.,  1.,  0., -0., -0.,  0., -0.,  0.,  0.,  0.,  0.,\n",
       "         0.,  0., -0.,  0., -0.],\n",
       "       [-0.,  0., -0.,  0.,  1., -0., -0.,  0., -0.,  0.,  0., -0., -0.,\n",
       "        -0., -0.,  0.,  0., -0.],\n",
       "       [-0., -0.,  0.,  0., -0.,  1., -0.,  0.,  0., -0.,  0., -0., -0.,\n",
       "        -0.,  0., -0., -0., -0.],\n",
       "       [-0.,  0.,  0., -0., -0.,  0.,  1., -0., -0., -0.,  0.,  0., -0.,\n",
       "         0., -0.,  0., -0.,  0.],\n",
       "       [-0.,  0.,  0., -0.,  0.,  0.,  0.,  1., -0.,  0., -0., -0.,  0.,\n",
       "         0., -0., -0.,  0.,  0.],\n",
       "       [-0.,  0.,  0.,  0.,  0., -0.,  0.,  0.,  1.,  0., -0.,  0., -0.,\n",
       "         0., -0.,  0., -0.,  0.],\n",
       "       [-0.,  0.,  0.,  0., -0.,  0., -0.,  0., -0.,  1.,  0., -0., -0.,\n",
       "         0., -0., -0., -0.,  0.],\n",
       "       [-0.,  0.,  0.,  0., -0.,  0.,  0.,  0.,  0.,  0.,  1.,  0.,  0.,\n",
       "        -0., -0., -0.,  0.,  0.],\n",
       "       [-0.,  0., -0.,  0.,  0.,  0.,  0.,  0., -0., -0.,  0.,  1.,  0.,\n",
       "         0., -0.,  0.,  0.,  0.],\n",
       "       [-0.,  0., -0.,  0.,  0.,  0.,  0.,  0.,  0.,  0.,  0., -0.,  1.,\n",
       "         0., -0., -0.,  0.,  0.],\n",
       "       [-0.,  0.,  0., -0.,  0.,  0., -0.,  0., -0., -0., -0., -0.,  0.,\n",
       "         1., -0., -0.,  0.,  0.],\n",
       "       [ 0., -0., -0.,  0.,  0., -0.,  0.,  0.,  0.,  0.,  0., -0.,  0.,\n",
       "         0.,  1., -0.,  0.,  0.],\n",
       "       [-0.,  0., -0., -0.,  0.,  0., -0.,  0., -0., -0.,  0., -0.,  0.,\n",
       "         0., -0.,  1.,  0.,  0.],\n",
       "       [ 0.,  0., -0.,  0.,  0.,  0.,  0.,  0., -0., -0.,  0., -0.,  0.,\n",
       "         0., -0., -0.,  1.,  0.],\n",
       "       [-0., -0., -0., -0.,  0.,  0.,  0.,  0., -0., -0.,  0., -0., -0.,\n",
       "         0., -0., -0.,  0.,  1.]])"
      ]
     },
     "execution_count": 322,
     "metadata": {},
     "output_type": "execute_result"
    }
   ],
   "source": [
    "np.round(cut_vand @ Vinv) #% p"
   ]
  },
  {
   "cell_type": "code",
   "execution_count": 323,
   "metadata": {},
   "outputs": [
    {
     "data": {
      "text/plain": [
       "array([[ 1., -0., -0., -0., -0., -0., -0., -0., -0., -0., -0., -0., -0.,\n",
       "        -0., -0., -0., -0., -0.],\n",
       "       [ 0.,  1.,  0.,  0.,  0.,  0., -0.,  0.,  0.,  0.,  0.,  0.,  0.,\n",
       "         0.,  0.,  0.,  0.,  0.],\n",
       "       [ 0.,  0.,  1.,  0.,  0.,  0., -0.,  0.,  0.,  0., -0., -0.,  0.,\n",
       "         0.,  0.,  0.,  0.,  0.],\n",
       "       [ 0.,  0.,  0.,  1.,  0.,  0.,  0.,  0.,  0.,  0.,  0.,  0.,  0.,\n",
       "         0.,  0.,  0.,  0.,  0.],\n",
       "       [-0., -0., -0.,  0.,  1., -0., -0., -0., -0.,  0., -0., -0., -0.,\n",
       "        -0., -0.,  0., -0.,  0.],\n",
       "       [ 0.,  0.,  0.,  0.,  0.,  1.,  0., -0.,  0.,  0.,  0., -0.,  0.,\n",
       "         0.,  0.,  0.,  0.,  0.],\n",
       "       [-0., -0., -0., -0., -0., -0.,  1., -0., -0., -0., -0., -0., -0.,\n",
       "        -0., -0., -0., -0., -0.],\n",
       "       [-0., -0., -0., -0., -0., -0., -0.,  1., -0., -0., -0., -0., -0.,\n",
       "        -0., -0., -0., -0., -0.],\n",
       "       [-0., -0., -0., -0.,  0., -0., -0.,  0.,  1.,  0.,  0.,  0., -0.,\n",
       "        -0., -0.,  0.,  0.,  0.],\n",
       "       [ 0.,  0.,  0.,  0.,  0.,  0.,  0.,  0.,  0.,  1.,  0.,  0.,  0.,\n",
       "         0.,  0.,  0.,  0.,  0.],\n",
       "       [ 0.,  0., -0.,  0.,  0.,  0.,  0.,  0.,  0.,  0.,  1., -0.,  0.,\n",
       "         0., -0., -0.,  0., -0.],\n",
       "       [-0., -0., -0., -0., -0., -0., -0., -0., -0.,  0., -0.,  1., -0.,\n",
       "        -0., -0.,  0., -0., -0.],\n",
       "       [ 0.,  0.,  0.,  0.,  0.,  0.,  0., -0.,  0., -0.,  0., -0.,  1.,\n",
       "         0.,  0., -0.,  0., -0.],\n",
       "       [-0., -0., -0., -0., -0., -0., -0., -0., -0.,  0., -0., -0., -0.,\n",
       "         1., -0., -0., -0.,  0.],\n",
       "       [ 0.,  0.,  0.,  0., -0.,  0.,  0., -0.,  0., -0., -0., -0.,  0.,\n",
       "         0.,  1., -0.,  0., -0.],\n",
       "       [ 0., -0.,  0.,  0., -0.,  0.,  0., -0., -0., -0.,  0., -0.,  0.,\n",
       "         0.,  0.,  1.,  0., -0.],\n",
       "       [ 0.,  0., -0.,  0., -0., -0.,  0., -0., -0., -0.,  0., -0., -0.,\n",
       "         0.,  0., -0.,  1., -0.],\n",
       "       [ 0.,  0.,  0., -0.,  0., -0., -0.,  0.,  0.,  0.,  0.,  0.,  0.,\n",
       "        -0.,  0.,  0.,  0.,  1.]])"
      ]
     },
     "execution_count": 323,
     "metadata": {},
     "output_type": "execute_result"
    }
   ],
   "source": [
    "np.round(Vinv @ cut_vand) #% p"
   ]
  },
  {
   "cell_type": "code",
   "execution_count": 326,
   "metadata": {},
   "outputs": [
    {
     "data": {
      "text/plain": [
       "array([[[ 9, 12,  1],\n",
       "        [-1, 11, 18],\n",
       "        [14,  0, -1]],\n",
       "\n",
       "       [[ 0, -2, -1],\n",
       "        [ 1, -1, -1],\n",
       "        [-1, -1,  0]],\n",
       "\n",
       "       [[-1,  0, -1],\n",
       "        [ 1,  1, -1],\n",
       "        [-1,  2,  0]],\n",
       "\n",
       "       [[-1, -1,  0],\n",
       "        [ 1,  1, -2],\n",
       "        [-1, -1,  0]],\n",
       "\n",
       "       [[-1,  1,  0],\n",
       "        [ 0,  1, -4],\n",
       "        [-1,  2,  1]],\n",
       "\n",
       "       [[ 1,  1,  1],\n",
       "        [-1,  0,  0],\n",
       "        [ 1,  0,  0]],\n",
       "\n",
       "       [[ 0,  1,  0],\n",
       "        [ 0,  0, -1],\n",
       "        [ 0,  0,  0]],\n",
       "\n",
       "       [[ 0,  1,  1],\n",
       "        [ 0,  1, -1],\n",
       "        [ 0,  0,  1]],\n",
       "\n",
       "       [[-4, -2, -2],\n",
       "        [ 2,  2, -7],\n",
       "        [-2,  2,  1]],\n",
       "\n",
       "       [[ 0,  0,  0],\n",
       "        [ 0,  0,  0],\n",
       "        [ 0,  0,  0]],\n",
       "\n",
       "       [[ 0,  1,  0],\n",
       "        [ 0,  0,  0],\n",
       "        [ 0,  0,  0]],\n",
       "\n",
       "       [[-1, -1,  0],\n",
       "        [ 0,  1, -2],\n",
       "        [ 0,  0,  0]],\n",
       "\n",
       "       [[ 3,  1,  2],\n",
       "        [-2, -3,  7],\n",
       "        [ 2, -2, -1]],\n",
       "\n",
       "       [[-2,  1,  0],\n",
       "        [ 0,  1, -2],\n",
       "        [-1,  2,  1]],\n",
       "\n",
       "       [[ 1,  0,  1],\n",
       "        [-1, -1,  2],\n",
       "        [ 0, -1,  0]],\n",
       "\n",
       "       [[ 4,  0,  2],\n",
       "        [-2, -3,  8],\n",
       "        [ 2, -3, -1]],\n",
       "\n",
       "       [[ 3,  0,  1],\n",
       "        [-2, -2,  5],\n",
       "        [ 2, -2, -2]],\n",
       "\n",
       "       [[-2, -2, -2],\n",
       "        [ 2,  0, -4],\n",
       "        [-1,  1,  0]]])"
      ]
     },
     "execution_count": 326,
     "metadata": {},
     "output_type": "execute_result"
    }
   ],
   "source": [
    "C = np.zeros([N,m,n])\n",
    "\n",
    "for i in range(m):\n",
    "    for j in range(n):\n",
    "        C[:,i,j] = np.round(Vinv @ h_i[:,i,j])# % p  # np.linalg.solve(Vinv, h[:,i,j]) % p\n",
    "#         C[:,i,j] = np.round(h_i[:,i,j] @ Vinv ) % p  # np.linalg.solve(Vinv, h[:,i,j]) % p\n",
    "\n",
    "C.astype('int')"
   ]
  },
  {
   "cell_type": "code",
   "execution_count": 327,
   "metadata": {},
   "outputs": [
    {
     "data": {
      "text/plain": [
       "array([[[[ 1.06687752e+00,  1.06687752e+00,  1.06687752e+00],\n",
       "         [ 1.06687752e+00,  1.06687752e+00,  1.06687752e+00],\n",
       "         [ 1.06687752e+00,  1.06687752e+00,  1.06687752e+00]],\n",
       "\n",
       "        [[-8.22498370e-03, -8.22498370e-03, -8.22498370e-03],\n",
       "         [-8.22498370e-03, -8.22498370e-03, -8.22498370e-03],\n",
       "         [-8.22498370e-03, -8.22498370e-03, -8.22498370e-03]],\n",
       "\n",
       "        [[ 4.34866447e-03,  4.34866447e-03,  4.34866447e-03],\n",
       "         [ 4.34866447e-03,  4.34866447e-03,  4.34866447e-03],\n",
       "         [ 4.34866447e-03,  4.34866447e-03,  4.34866447e-03]],\n",
       "\n",
       "        ...,\n",
       "\n",
       "        [[-4.87440071e-03, -4.87440071e-03, -4.87440071e-03],\n",
       "         [-4.87440071e-03, -4.87440071e-03, -4.87440071e-03],\n",
       "         [-4.87440071e-03, -4.87440071e-03, -4.87440071e-03]],\n",
       "\n",
       "        [[ 2.78390678e-03,  2.78390678e-03,  2.78390678e-03],\n",
       "         [ 2.78390678e-03,  2.78390678e-03,  2.78390678e-03],\n",
       "         [ 2.78390678e-03,  2.78390678e-03,  2.78390678e-03]],\n",
       "\n",
       "        [[-1.69480807e-02, -1.69480807e-02, -1.69480807e-02],\n",
       "         [-1.69480807e-02, -1.69480807e-02, -1.69480807e-02],\n",
       "         [-1.69480807e-02, -1.69480807e-02, -1.69480807e-02]]],\n",
       "\n",
       "\n",
       "       [[[ 4.23459161e-03,  4.23459161e-03,  4.23459161e-03],\n",
       "         [ 4.23459161e-03,  4.23459161e-03,  4.23459161e-03],\n",
       "         [ 4.23459161e-03,  4.23459161e-03,  4.23459161e-03]],\n",
       "\n",
       "        [[ 3.57888004e-03,  3.57888004e-03,  3.57888004e-03],\n",
       "         [ 3.57888004e-03,  3.57888004e-03,  3.57888004e-03],\n",
       "         [ 3.57888004e-03,  3.57888004e-03,  3.57888004e-03]],\n",
       "\n",
       "        [[-2.62123124e-02, -2.62123124e-02, -2.62123124e-02],\n",
       "         [-2.62123124e-02, -2.62123124e-02, -2.62123124e-02],\n",
       "         [-2.62123124e-02, -2.62123124e-02, -2.62123124e-02]],\n",
       "\n",
       "        ...,\n",
       "\n",
       "        [[ 4.81122701e-03,  4.81122701e-03,  4.81122701e-03],\n",
       "         [ 4.81122701e-03,  4.81122701e-03,  4.81122701e-03],\n",
       "         [ 4.81122701e-03,  4.81122701e-03,  4.81122701e-03]],\n",
       "\n",
       "        [[-1.29178664e-02, -1.29178664e-02, -1.29178664e-02],\n",
       "         [-1.29178664e-02, -1.29178664e-02, -1.29178664e-02],\n",
       "         [-1.29178664e-02, -1.29178664e-02, -1.29178664e-02]],\n",
       "\n",
       "        [[ 2.89101335e-02,  2.89101335e-02,  2.89101335e-02],\n",
       "         [ 2.89101335e-02,  2.89101335e-02,  2.89101335e-02],\n",
       "         [ 2.89101335e-02,  2.89101335e-02,  2.89101335e-02]]],\n",
       "\n",
       "\n",
       "       [[[-6.67068355e-03, -6.67068355e-03, -6.67068355e-03],\n",
       "         [-6.67068355e-03, -6.67068355e-03, -6.67068355e-03],\n",
       "         [-6.67068355e-03, -6.67068355e-03, -6.67068355e-03]],\n",
       "\n",
       "        [[-8.77152260e-03, -8.77152260e-03, -8.77152260e-03],\n",
       "         [-8.77152260e-03, -8.77152260e-03, -8.77152260e-03],\n",
       "         [-8.77152260e-03, -8.77152260e-03, -8.77152260e-03]],\n",
       "\n",
       "        [[ 1.78087551e-02,  1.78087551e-02,  1.78087551e-02],\n",
       "         [ 1.78087551e-02,  1.78087551e-02,  1.78087551e-02],\n",
       "         [ 1.78087551e-02,  1.78087551e-02,  1.78087551e-02]],\n",
       "\n",
       "        ...,\n",
       "\n",
       "        [[-6.95108299e-03, -6.95108299e-03, -6.95108299e-03],\n",
       "         [-6.95108299e-03, -6.95108299e-03, -6.95108299e-03],\n",
       "         [-6.95108299e-03, -6.95108299e-03, -6.95108299e-03]],\n",
       "\n",
       "        [[-6.51985292e-03, -6.51985292e-03, -6.51985292e-03],\n",
       "         [-6.51985292e-03, -6.51985292e-03, -6.51985292e-03],\n",
       "         [-6.51985292e-03, -6.51985292e-03, -6.51985292e-03]],\n",
       "\n",
       "        [[ 1.53309392e-05,  1.53309392e-05,  1.53309392e-05],\n",
       "         [ 1.53309392e-05,  1.53309392e-05,  1.53309392e-05],\n",
       "         [ 1.53309392e-05,  1.53309392e-05,  1.53309392e-05]]],\n",
       "\n",
       "\n",
       "       ...,\n",
       "\n",
       "\n",
       "       [[[ 7.29553809e-03,  7.29553809e-03,  7.29553809e-03],\n",
       "         [ 7.29553809e-03,  7.29553809e-03,  7.29553809e-03],\n",
       "         [ 7.29553809e-03,  7.29553809e-03,  7.29553809e-03]],\n",
       "\n",
       "        [[-1.64579781e-02, -1.64579781e-02, -1.64579781e-02],\n",
       "         [-1.64579781e-02, -1.64579781e-02, -1.64579781e-02],\n",
       "         [-1.64579781e-02, -1.64579781e-02, -1.64579781e-02]],\n",
       "\n",
       "        [[-2.36293832e-02, -2.36293832e-02, -2.36293832e-02],\n",
       "         [-2.36293832e-02, -2.36293832e-02, -2.36293832e-02],\n",
       "         [-2.36293832e-02, -2.36293832e-02, -2.36293832e-02]],\n",
       "\n",
       "        ...,\n",
       "\n",
       "        [[ 2.73804406e-02,  2.73804406e-02,  2.73804406e-02],\n",
       "         [ 2.73804406e-02,  2.73804406e-02,  2.73804406e-02],\n",
       "         [ 2.73804406e-02,  2.73804406e-02,  2.73804406e-02]],\n",
       "\n",
       "        [[ 1.01499100e-01,  1.01499100e-01,  1.01499100e-01],\n",
       "         [ 1.01499100e-01,  1.01499100e-01,  1.01499100e-01],\n",
       "         [ 1.01499100e-01,  1.01499100e-01,  1.01499100e-01]],\n",
       "\n",
       "        [[-8.98619016e-02, -8.98619016e-02, -8.98619016e-02],\n",
       "         [-8.98619016e-02, -8.98619016e-02, -8.98619016e-02],\n",
       "         [-8.98619016e-02, -8.98619016e-02, -8.98619016e-02]]],\n",
       "\n",
       "\n",
       "       [[[-6.12934834e-03, -6.12934834e-03, -6.12934834e-03],\n",
       "         [-6.12934834e-03, -6.12934834e-03, -6.12934834e-03],\n",
       "         [-6.12934834e-03, -6.12934834e-03, -6.12934834e-03]],\n",
       "\n",
       "        [[ 1.44854762e-02,  1.44854762e-02,  1.44854762e-02],\n",
       "         [ 1.44854762e-02,  1.44854762e-02,  1.44854762e-02],\n",
       "         [ 1.44854762e-02,  1.44854762e-02,  1.44854762e-02]],\n",
       "\n",
       "        [[ 1.61289549e-03,  1.61289549e-03,  1.61289549e-03],\n",
       "         [ 1.61289549e-03,  1.61289549e-03,  1.61289549e-03],\n",
       "         [ 1.61289549e-03,  1.61289549e-03,  1.61289549e-03]],\n",
       "\n",
       "        ...,\n",
       "\n",
       "        [[-7.63037220e-04, -7.63037220e-04, -7.63037220e-04],\n",
       "         [-7.63037220e-04, -7.63037220e-04, -7.63037220e-04],\n",
       "         [-7.63037220e-04, -7.63037220e-04, -7.63037220e-04]],\n",
       "\n",
       "        [[ 1.12297076e-01,  1.12297076e-01,  1.12297076e-01],\n",
       "         [ 1.12297076e-01,  1.12297076e-01,  1.12297076e-01],\n",
       "         [ 1.12297076e-01,  1.12297076e-01,  1.12297076e-01]],\n",
       "\n",
       "        [[-4.31400490e-02, -4.31400490e-02, -4.31400490e-02],\n",
       "         [-4.31400490e-02, -4.31400490e-02, -4.31400490e-02],\n",
       "         [-4.31400490e-02, -4.31400490e-02, -4.31400490e-02]]],\n",
       "\n",
       "\n",
       "       [[[ 2.74070656e-03,  2.74070656e-03,  2.74070656e-03],\n",
       "         [ 2.74070656e-03,  2.74070656e-03,  2.74070656e-03],\n",
       "         [ 2.74070656e-03,  2.74070656e-03,  2.74070656e-03]],\n",
       "\n",
       "        [[-1.42047365e-02, -1.42047365e-02, -1.42047365e-02],\n",
       "         [-1.42047365e-02, -1.42047365e-02, -1.42047365e-02],\n",
       "         [-1.42047365e-02, -1.42047365e-02, -1.42047365e-02]],\n",
       "\n",
       "        [[ 1.64830605e-02,  1.64830605e-02,  1.64830605e-02],\n",
       "         [ 1.64830605e-02,  1.64830605e-02,  1.64830605e-02],\n",
       "         [ 1.64830605e-02,  1.64830605e-02,  1.64830605e-02]],\n",
       "\n",
       "        ...,\n",
       "\n",
       "        [[ 1.99439890e-02,  1.99439890e-02,  1.99439890e-02],\n",
       "         [ 1.99439890e-02,  1.99439890e-02,  1.99439890e-02],\n",
       "         [ 1.99439890e-02,  1.99439890e-02,  1.99439890e-02]],\n",
       "\n",
       "        [[-4.86296747e-02, -4.86296747e-02, -4.86296747e-02],\n",
       "         [-4.86296747e-02, -4.86296747e-02, -4.86296747e-02],\n",
       "         [-4.86296747e-02, -4.86296747e-02, -4.86296747e-02]],\n",
       "\n",
       "        [[ 8.44026841e-03,  8.44026841e-03,  8.44026841e-03],\n",
       "         [ 8.44026841e-03,  8.44026841e-03,  8.44026841e-03],\n",
       "         [ 8.44026841e-03,  8.44026841e-03,  8.44026841e-03]]]])"
      ]
     },
     "execution_count": 327,
     "metadata": {},
     "output_type": "execute_result"
    }
   ],
   "source": [
    "multivand = np.zeros([N,N,m,n])\n",
    "\n",
    "for i in range(N):\n",
    "    for j in range(N):\n",
    "        multivand[i,j,:,:] = Vinv[i,j]# % p\n",
    "        \n",
    "multivand"
   ]
  },
  {
   "cell_type": "code",
   "execution_count": 328,
   "metadata": {},
   "outputs": [
    {
     "data": {
      "text/plain": [
       "[array([10.,  0., -0., -0., -1., -0., -0., -0., -1., -0., -0., -0.,  1.,\n",
       "        -1.,  0.,  1.,  1., -0.]),\n",
       " array([13.,  0., -0.,  0., -0., -0., -0., -0.,  0., -0., -0., -0.,  0.,\n",
       "        -0.,  0.,  0., -0.,  0.]),\n",
       " array([ 1.,  0., -0.,  0., -0., -0., -0., -0., -0., -0., -0., -0.,  0.,\n",
       "        -0.,  0.,  0.,  0., -0.]),\n",
       " array([-1., -0.,  0., -0.,  0.,  0.,  0.,  0.,  0.,  0.,  0.,  0., -0.,\n",
       "         0., -0., -0., -0.,  0.]),\n",
       " array([12., -0.,  0.,  0.,  0., -0., -0.,  0.,  0., -0., -0.,  0., -1.,\n",
       "         0., -0., -1., -1.,  0.]),\n",
       " array([19.,  0., -0., -0., -1., -0., -0., -0., -1., -0., -1., -1.,  1.,\n",
       "        -1.,  1.,  2.,  1., -0.]),\n",
       " array([15.,  0., -0., -0., -0., -0., -0., -0., -0., -0., -0., -0.,  0.,\n",
       "        -1.,  0.,  1.,  0., -0.]),\n",
       " array([-0.,  0.,  0.,  0.,  0.,  0.,  0.,  0.,  1.,  0.,  0.,  0., -1.,\n",
       "         0., -0., -1., -1.,  0.]),\n",
       " array([-1., -0.,  0.,  0.,  0.,  0.,  0.,  0.,  0., -0.,  0.,  0., -0.,\n",
       "         0., -0., -0., -0.,  0.])]"
      ]
     },
     "execution_count": 328,
     "metadata": {},
     "output_type": "execute_result"
    }
   ],
   "source": [
    "r = []\n",
    "\n",
    "for i in range(m):\n",
    "    for j in range(n):\n",
    "        r.append(np.round(multivand[:,:,i,j] @ C[:,i,j]))\n",
    "r"
   ]
  },
  {
   "cell_type": "code",
   "execution_count": 329,
   "metadata": {},
   "outputs": [
    {
     "data": {
      "text/plain": [
       "array([[[10., 13.,  1.],\n",
       "        [-1., 12., 19.],\n",
       "        [15., -0., -1.]],\n",
       "\n",
       "       [[ 0.,  0.,  0.],\n",
       "        [-0., -0.,  0.],\n",
       "        [ 0.,  0., -0.]],\n",
       "\n",
       "       [[-0., -0., -0.],\n",
       "        [ 0.,  0., -0.],\n",
       "        [-0.,  0.,  0.]],\n",
       "\n",
       "       [[-0.,  0.,  0.],\n",
       "        [-0.,  0., -0.],\n",
       "        [-0.,  0.,  0.]],\n",
       "\n",
       "       [[-1., -0., -0.],\n",
       "        [ 0.,  0., -1.],\n",
       "        [-0.,  0.,  0.]],\n",
       "\n",
       "       [[-0., -0., -0.],\n",
       "        [ 0., -0., -0.],\n",
       "        [-0.,  0.,  0.]],\n",
       "\n",
       "       [[-0., -0., -0.],\n",
       "        [ 0., -0., -0.],\n",
       "        [-0.,  0.,  0.]],\n",
       "\n",
       "       [[-0., -0., -0.],\n",
       "        [ 0.,  0., -0.],\n",
       "        [-0.,  0.,  0.]],\n",
       "\n",
       "       [[-1.,  0., -0.],\n",
       "        [ 0.,  0., -1.],\n",
       "        [-0.,  1.,  0.]],\n",
       "\n",
       "       [[-0., -0., -0.],\n",
       "        [ 0., -0., -0.],\n",
       "        [-0.,  0., -0.]],\n",
       "\n",
       "       [[-0., -0., -0.],\n",
       "        [ 0., -0., -1.],\n",
       "        [-0.,  0.,  0.]],\n",
       "\n",
       "       [[-0., -0., -0.],\n",
       "        [ 0.,  0., -1.],\n",
       "        [-0.,  0.,  0.]],\n",
       "\n",
       "       [[ 1.,  0.,  0.],\n",
       "        [-0., -1.,  1.],\n",
       "        [ 0., -1., -0.]],\n",
       "\n",
       "       [[-1., -0., -0.],\n",
       "        [ 0.,  0., -1.],\n",
       "        [-1.,  0.,  0.]],\n",
       "\n",
       "       [[ 0.,  0.,  0.],\n",
       "        [-0., -0.,  1.],\n",
       "        [ 0., -0., -0.]],\n",
       "\n",
       "       [[ 1.,  0.,  0.],\n",
       "        [-0., -1.,  2.],\n",
       "        [ 1., -1., -0.]],\n",
       "\n",
       "       [[ 1., -0.,  0.],\n",
       "        [-0., -1.,  1.],\n",
       "        [ 0., -1., -0.]],\n",
       "\n",
       "       [[-0.,  0., -0.],\n",
       "        [ 0.,  0., -0.],\n",
       "        [-0.,  0.,  0.]]])"
      ]
     },
     "execution_count": 329,
     "metadata": {},
     "output_type": "execute_result"
    }
   ],
   "source": [
    "b = np.zeros([N,m,n])\n",
    "step = 0\n",
    "for i in range(m):\n",
    "    for j in range(n):\n",
    "        b[:,i,j] = r[step]\n",
    "        step += 1\n",
    "b"
   ]
  },
  {
   "cell_type": "code",
   "execution_count": 330,
   "metadata": {},
   "outputs": [
    {
     "data": {
      "text/plain": [
       "matrix([[ 1,  7, 20, 15,  0,  5, 26,  3, 28],\n",
       "        [20,  5, 21,  3, 10,  6, 23, 18, 17],\n",
       "        [23,  2, 13,  0,  2,  8, 24,  7, 23],\n",
       "        [21, 21, 20, 26, 28, 26, 13, 24,  1],\n",
       "        [ 2,  7,  6,  1, 25, 22, 15, 20, 14],\n",
       "        [ 4, 24, 14, 18, 11,  9, 11,  4,  8],\n",
       "        [16,  3,  9, 18, 18, 18, 14, 24,  5],\n",
       "        [ 8, 16,  0, 23, 17, 26, 13, 27,  5],\n",
       "        [ 4, 25,  5, 16, 27,  9,  3,  4, 24]], dtype=int32)"
      ]
     },
     "execution_count": 330,
     "metadata": {},
     "output_type": "execute_result"
    }
   ],
   "source": [
    "REG_MAT_MUL"
   ]
  }
 ],
 "metadata": {
  "kernelspec": {
   "display_name": "Python 3",
   "language": "python",
   "name": "python3"
  },
  "language_info": {
   "codemirror_mode": {
    "name": "ipython",
    "version": 3
   },
   "file_extension": ".py",
   "mimetype": "text/x-python",
   "name": "python",
   "nbconvert_exporter": "python",
   "pygments_lexer": "ipython3",
   "version": "3.8.3"
  }
 },
 "nbformat": 4,
 "nbformat_minor": 4
}
